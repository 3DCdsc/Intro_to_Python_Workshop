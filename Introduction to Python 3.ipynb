{
 "cells": [
  {
   "cell_type": "markdown",
   "metadata": {},
   "source": [
    "# Google Colab Overview\n",
    "\n",
    "## What is Google Colab?\n",
    "Colab is a free Jupyter notebook environment that runs entirely in the cloud. Most importantly, it does not require a setup and the notebooks that you create can be simultaneously edited by your team members - just the way you edit documents in Google Docs. More information [here]([https://www.tutorialspoint.com/google_colab/what_is_google_colab.htm).\n",
    "\n",
    "## What is a Jupyter Notebook?\n",
    "A web-based application that allows users to write both text and code. An application, Jupyter Notebook App, can also be downloaded onto your local system so that you can write code locally. A detailed explanation can be found [here](https://www.datacamp.com/community/tutorials/tutorial-jupyter-notebook). Alternatively, you can find the download link [here](https://test-jupyter.readthedocs.io/en/latest/install.html).\n",
    "\n"
   ]
  },
  {
   "cell_type": "markdown",
   "metadata": {},
   "source": [
    "# Getting Started\n",
    "1. Start by clicking **'Tools'> Click 'Settings' > DISABLE 'Automatically trigger code completions'**\n",
    "This allows you to use 'SHIFT + TAB' to find out more about what exactly different code does later.\n",
    "2. **Comments**. In the next few sections, you will see things written with a  `#` in front. These are comments. They will not be read by the machine. To write it yourself, press 'CMD' + '/' for Mac or 'CTRL' + '/' for Windows.\n",
    "3. **Content Page**. An outline of what you will be learning today is provided in the Contents. This is to facilitate revision if you ever come back to this notebook. For those with experience, while I'm clueless as to why you are here, it also helps you jump to any area which you may need some refresher on. Hope it is helpful!\n"
   ]
  },
  {
   "cell_type": "code",
   "execution_count": null,
   "metadata": {},
   "outputs": [],
   "source": [
    "# An example of a comment\n",
    "# Great Job! Now let's get started for real!"
   ]
  },
  {
   "cell_type": "markdown",
   "metadata": {},
   "source": [
    "<a id='contents'></a>\n",
    "# Contents\n",
    "\n",
    "### 1. [Variable Assignment](#variables)\n",
    "### 2. [String](#string)\n",
    "### 3. [Lists](#list)\n",
    "### 4. [Dictionaries](#dict)\n",
    "### 5. [Tuples](#tuples)\n",
    "### 6. [Sets](#sets)\n",
    "### 7. [If-Else Statements](#if-else)\n",
    "### 8. [Assignment / Mathematical Operators](#operators)\n",
    "### 9. [for Loops](#for)\n",
    "### 10. [List Comprehension](#list-comprehension)\n",
    "### 11. [Functions](#function)\n",
    "### 12. [Practice](#practice)\n",
    "### 13. [Miscellaneous / FAQ](#misc)"
   ]
  },
  {
   "cell_type": "markdown",
   "metadata": {},
   "source": [
    "<a id='variables'></a>\n",
    "# Variable Assignment\n",
    "([Top](#contents))\n",
    "\n",
    "## Rules for variable names\n",
    "* names can not start with a number\n",
    "* names can not contain spaces, use _ intead\n",
    "* names can not contain any of these symbols:\n",
    "\n",
    "      :'\",<>/?|\\!@#%^&*~-+\n",
    "       \n",
    "* it's considered best practice ([PEP8](https://www.python.org/dev/peps/pep-0008/#function-and-variable-names)) that names are lowercase with underscores\n",
    "* avoid using Python built-in keywords like `list` and `str`\n",
    "* avoid using the single characters `l` (lowercase letter el), `O` (uppercase letter oh) and `I` (uppercase letter eye) as they can be confused with `1` and `0`"
   ]
  },
  {
   "cell_type": "code",
   "execution_count": null,
   "metadata": {},
   "outputs": [],
   "source": [
    "# NOT ALLOWED: Will throw error\n",
    "# 5five = 10 (Starting with a number)\n",
    "# my var = 10 (Using spaces)\n",
    "# my_var* = 10 (Using special symbols)\n",
    "\n",
    "# STRONGLY DISCOURAGED: Will not throw error but will likely lead to bugs\n",
    "# list = 3 (Using built-in keywords)\n",
    "\n",
    "# Recommended\n",
    "my_var = 10"
   ]
  },
  {
   "cell_type": "markdown",
   "metadata": {},
   "source": [
    "## Dynamic Typing\n",
    "#### Pros\n",
    "* Very easy to work with\n",
    "* Faster development time\n",
    "\n",
    "#### Cons\n",
    "* May result in unexpected bugs!\n",
    "* You need to be aware of `type()`"
   ]
  },
  {
   "cell_type": "code",
   "execution_count": null,
   "metadata": {},
   "outputs": [],
   "source": [
    "print(type(my_var)) # Current Type = int"
   ]
  },
  {
   "cell_type": "code",
   "execution_count": null,
   "metadata": {},
   "outputs": [],
   "source": [
    "my_var = \"Hello World\""
   ]
  },
  {
   "cell_type": "code",
   "execution_count": null,
   "metadata": {},
   "outputs": [],
   "source": [
    "# Dynamic Typing (Ability to assign different types to the same variable)\n",
    "print(my_var)\n",
    "print(type(my_var)) # Current Type = str"
   ]
  },
  {
   "cell_type": "markdown",
   "metadata": {},
   "source": [
    "<a id='string'></a>\n",
    "# String\n",
    "([Top](#contents))\n",
    "\n",
    "Just like how `int` is a data type referring to whole numbers, `str` is another data type referring to plain text. This functions similar to the **Panel in Grasshopper**."
   ]
  },
  {
   "cell_type": "markdown",
   "metadata": {},
   "source": [
    "## String Indexing and Slicing\n",
    "We know strings are a sequence, which means Python can use indexes to call parts of the sequence.\n",
    "**Indexing** - Retrieving one letter from the string\n",
    "**Slicing** - Retrieving multiple letters (Sub-string) from the string\n",
    "\n",
    "In Python, we use brackets <code>[]</code> after an object to call its index. We should also note that indexing starts at 0 for Python. Let's create a new object called <code>s</code> and then walk through a few examples of indexing.\n",
    "\n",
    "Syntax for `[]`: **Starting Index (Inclusive), End Index (Exclusive), Step Size**"
   ]
  },
  {
   "cell_type": "code",
   "execution_count": null,
   "metadata": {},
   "outputs": [],
   "source": [
    "# Outputs the first letter. Remember: In Python, index starts from '0'\n",
    "print(my_var[0])\n",
    "\n",
    "# Outputs the first to fourth letter. Indexing works by INCLUDING left bound but EXCLUDING right bound\n",
    "print(my_var[0:4])\n",
    "\n",
    "# Outputs the first and third letter.\n",
    "print(my_var[0:4:2])\n",
    "\n",
    "# Reversing a string\n",
    "print(my_var[::-1])"
   ]
  },
  {
   "cell_type": "code",
   "execution_count": null,
   "metadata": {},
   "outputs": [],
   "source": [
    "s = \"3DC'20 - I Love Coding!\""
   ]
  },
  {
   "cell_type": "code",
   "execution_count": null,
   "metadata": {},
   "outputs": [],
   "source": [
    "# Practice 1: Print 'I Love Coding' from the string above\n"
   ]
  },
  {
   "cell_type": "markdown",
   "metadata": {
    "collapsed": true
   },
   "source": [
    "## String Properties\n",
    "It's important to note that strings have an important property known as **immutability**. This means that once a string is created, the elements within it can not be changed or replaced. For example:"
   ]
  },
  {
   "cell_type": "code",
   "execution_count": null,
   "metadata": {},
   "outputs": [],
   "source": [
    "s"
   ]
  },
  {
   "cell_type": "code",
   "execution_count": null,
   "metadata": {},
   "outputs": [],
   "source": [
    "# Let's try to change the first letter to 'x'\n",
    "s[0] = 'x'"
   ]
  },
  {
   "cell_type": "markdown",
   "metadata": {},
   "source": [
    "**Notice how the error tells us directly what we can't do**, change the item assignment!\n",
    "\n",
    "Something we *can* do is concatenate strings!"
   ]
  },
  {
   "cell_type": "markdown",
   "metadata": {},
   "source": [
    "## String Concatenation\n",
    "\n",
    "Dictionary definition of concatenation: \"the action of linking things together in a series, or the condition of being linked in such a way\"\n",
    "\n",
    "Layman term: **Joining 2 or more strings together**"
   ]
  },
  {
   "cell_type": "code",
   "execution_count": null,
   "metadata": {},
   "outputs": [],
   "source": [
    "s"
   ]
  },
  {
   "cell_type": "code",
   "execution_count": null,
   "metadata": {},
   "outputs": [],
   "source": [
    "# Concatenate strings!\n",
    "s + ' concatenate me!'"
   ]
  },
  {
   "cell_type": "code",
   "execution_count": null,
   "metadata": {},
   "outputs": [],
   "source": [
    "# We can reassign s completely though!\n",
    "s = s + ' concatenate me!'"
   ]
  },
  {
   "cell_type": "code",
   "execution_count": null,
   "metadata": {},
   "outputs": [],
   "source": [
    "print(s)"
   ]
  },
  {
   "cell_type": "code",
   "execution_count": null,
   "metadata": {},
   "outputs": [],
   "source": [
    "s"
   ]
  },
  {
   "cell_type": "markdown",
   "metadata": {},
   "source": [
    "We can use the **multiplication symbol to create repetition** as well."
   ]
  },
  {
   "cell_type": "code",
   "execution_count": null,
   "metadata": {},
   "outputs": [],
   "source": [
    "letter = 'z'"
   ]
  },
  {
   "cell_type": "code",
   "execution_count": null,
   "metadata": {},
   "outputs": [],
   "source": [
    "letter*10"
   ]
  },
  {
   "cell_type": "markdown",
   "metadata": {},
   "source": [
    "## Practice 2\n",
    "By assigning `first_name` and `last_name` to variables, and using string concatenation, print `\"My name is first_name last_name\"`\n",
    "Example: `\"My name is King Jupyter.\"`"
   ]
  },
  {
   "cell_type": "code",
   "execution_count": null,
   "metadata": {},
   "outputs": [],
   "source": [
    "# Insert code below"
   ]
  },
  {
   "cell_type": "markdown",
   "metadata": {},
   "source": [
    "<a id='list'></a>\n",
    "# Lists\n",
    "([Top](#contents))\n",
    "Earlier when discussing strings we introduced the concept of a *sequence* in Python. Lists can be thought of the most general version of a *sequence* in Python. Unlike strings, they are **mutable**, meaning the elements inside a list can be changed!\n",
    "\n",
    "Lists are constructed with brackets `[]` and commas separating every element in the list."
   ]
  },
  {
   "cell_type": "code",
   "execution_count": null,
   "metadata": {},
   "outputs": [],
   "source": [
    "# Assign a list to a variable named my_list\n",
    "my_list = [1,2,3]"
   ]
  },
  {
   "cell_type": "code",
   "execution_count": null,
   "metadata": {},
   "outputs": [],
   "source": [
    "print(my_list)"
   ]
  },
  {
   "cell_type": "code",
   "execution_count": null,
   "metadata": {},
   "outputs": [],
   "source": [
    "# For Python, different data types can be put together into the same list\n",
    "my_list = [1, \"2\", True]"
   ]
  },
  {
   "cell_type": "code",
   "execution_count": null,
   "metadata": {},
   "outputs": [],
   "source": [
    "print(my_list)"
   ]
  },
  {
   "cell_type": "markdown",
   "metadata": {},
   "source": [
    "### Indexing and Slicing\n",
    "Indexing and slicing work just like in strings."
   ]
  },
  {
   "cell_type": "code",
   "execution_count": null,
   "metadata": {},
   "outputs": [],
   "source": [
    "my_list = [2, 4, 8, \"Hello\", \"Good Job!\"]"
   ]
  },
  {
   "cell_type": "code",
   "execution_count": null,
   "metadata": {},
   "outputs": [],
   "source": [
    "# Practice 3a: Return all strings from the list above"
   ]
  },
  {
   "cell_type": "code",
   "execution_count": null,
   "metadata": {},
   "outputs": [],
   "source": [
    "# Practice 3b: Return [\"Good Job!\", \"Hello\"] in this order\n",
    "# Hint: Remember how to reverse a string?\n",
    "# Challenge: Do this by only slicing the original list once!"
   ]
  },
  {
   "cell_type": "markdown",
   "metadata": {},
   "source": [
    "## Nesting Lists\n",
    "A great feature of of Python data structures is that they support *nesting*. This means we can have data structures within data structures. For example: A list inside a list.\n",
    "\n",
    "Let's see how this works!"
   ]
  },
  {
   "cell_type": "code",
   "execution_count": null,
   "metadata": {},
   "outputs": [],
   "source": [
    "# Let's make three lists\n",
    "lst_1=[1,2,3]\n",
    "lst_2=[4,5,6]\n",
    "lst_3=[7,8,9]\n",
    "\n",
    "# Make a list of lists to form a matrix\n",
    "matrix = [lst_1,lst_2,lst_3]"
   ]
  },
  {
   "cell_type": "code",
   "execution_count": null,
   "metadata": {},
   "outputs": [],
   "source": [
    "matrix"
   ]
  },
  {
   "cell_type": "code",
   "execution_count": null,
   "metadata": {},
   "outputs": [],
   "source": [
    "# Example: Retrieving the number '5'\n",
    "matrix[1][1]"
   ]
  },
  {
   "cell_type": "code",
   "execution_count": null,
   "metadata": {},
   "outputs": [],
   "source": [
    "nested_list = ['I', 'can', 'be', ['Any', 'DataType', [True]]]"
   ]
  },
  {
   "cell_type": "code",
   "execution_count": null,
   "metadata": {},
   "outputs": [],
   "source": [
    "# Practice 4: Access 'True' from the nested_list"
   ]
  },
  {
   "cell_type": "markdown",
   "metadata": {},
   "source": [
    "## Built-in Functions / Methods\n",
    "Python comes with built-in functions / methods that can be applied to a few data types or which are unique only to a specific data type."
   ]
  },
  {
   "cell_type": "markdown",
   "metadata": {},
   "source": [
    "`len()` is a built-in function which returns the length of the string / object.\n",
    "\n",
    "An object is an instance of a class.\n",
    "\n",
    "A class, in a nutshell, is a bundle of functions. However, when functions are placed inside classes, they are known (Read: Defined) as methods."
   ]
  },
  {
   "cell_type": "code",
   "execution_count": null,
   "metadata": {},
   "outputs": [],
   "source": [
    "print(len(\"Letters\")) # Outputs number of letters\n",
    "print(len([1,2,3,5,8])) # Outputs number of elements"
   ]
  },
  {
   "cell_type": "markdown",
   "metadata": {},
   "source": [
    "## Built-in Methods for Lists\n",
    "\n",
    "Few examples include:\n",
    "* `pop()` Removes the last element from the list.\n",
    "* `append()` Adds an element to the back of the list.\n",
    "* `reverse()` Reverses the order of all elements in the list.\n",
    "\n",
    "Note: **All 3 of these functions are applied directly to the original list**"
   ]
  },
  {
   "cell_type": "code",
   "execution_count": null,
   "metadata": {},
   "outputs": [],
   "source": [
    "# Remove the last element from the list\n",
    "ls = [1,2,3,4,5,\"This will be removed from the list\"]\n",
    "print(ls)\n",
    "ls.pop() # Note that .pop() is applied directly to the list I.e. There is no need to do ls = ls.pop()\n",
    "print(ls)"
   ]
  },
  {
   "cell_type": "code",
   "execution_count": null,
   "metadata": {},
   "outputs": [],
   "source": [
    "# Add an element to the back of the list\n",
    "ls.append(6)"
   ]
  },
  {
   "cell_type": "code",
   "execution_count": null,
   "metadata": {},
   "outputs": [],
   "source": [
    "print(ls)"
   ]
  },
  {
   "cell_type": "code",
   "execution_count": null,
   "metadata": {},
   "outputs": [],
   "source": [
    "# Reverses the order of the list\n",
    "ls.reverse()\n",
    "print(ls)"
   ]
  },
  {
   "cell_type": "markdown",
   "metadata": {},
   "source": [
    "<a id='dict'></a>\n",
    "# Dictionaries\n",
    "\n",
    "([Top](#contents)) We've been learning about *sequences* in Python but now we're going to switch gears and learn about *mappings* in Python. If you're familiar with other languages you can think of these Dictionaries as hash tables. \n",
    "\n",
    "So what are mappings? **Mappings are a collection of objects that are stored by a *key*,** unlike a sequence that stores objects by their relative position. This is an important distinction, since mappings won't retain order since they have objects defined by a key.\n",
    "\n",
    "A Python dictionary consists of a key and then an associated value. That value can be almost any Python object.\n",
    "\n",
    "\n",
    "## Constructing a Dictionary\n",
    "Let's see how we can construct dictionaries to get a better understanding of how they work!"
   ]
  },
  {
   "cell_type": "code",
   "execution_count": null,
   "metadata": {},
   "outputs": [],
   "source": [
    "# Make a dictionary with {} and : to signify a key and a value\n",
    "my_dict = {'key1':'value1','key2':'value2'}"
   ]
  },
  {
   "cell_type": "code",
   "execution_count": null,
   "metadata": {},
   "outputs": [],
   "source": [
    "# Access a value by inputting its key\n",
    "my_dict[\"key1\"]"
   ]
  },
  {
   "cell_type": "code",
   "execution_count": null,
   "metadata": {},
   "outputs": [],
   "source": [
    "# Dictionaries, like lists, can hold different data types\n",
    "my_dict = {'key1':123,'key2':[12,23,33],'key3':['item0','item1','item2']}"
   ]
  },
  {
   "cell_type": "code",
   "execution_count": null,
   "metadata": {},
   "outputs": [],
   "source": [
    "# The values can be reassigned\n",
    "my_dict[\"key1\"] = 456"
   ]
  },
  {
   "cell_type": "code",
   "execution_count": null,
   "metadata": {},
   "outputs": [],
   "source": [
    "# New values can be assigned\n",
    "my_dict[\"key4\"] = \"New Value\""
   ]
  },
  {
   "cell_type": "code",
   "execution_count": null,
   "metadata": {},
   "outputs": [],
   "source": [
    "print(my_dict)"
   ]
  },
  {
   "cell_type": "code",
   "execution_count": null,
   "metadata": {},
   "outputs": [],
   "source": [
    "# Accessing nested dictionaries\n",
    "d = {'k1': [1,2,{'k2':[[\"Hello!\"]]}]}\n",
    "d['k1'][2]['k2'][0][0]"
   ]
  },
  {
   "cell_type": "code",
   "execution_count": null,
   "metadata": {},
   "outputs": [],
   "source": [
    "# Practice 5: Retrieve 'Coding is fun unless you're doing it wrong'\n",
    "d = {'k1':[1,2,{'k2':['pls do not do this',{'have fun':[1,2,['Coding is fun unless you\\'re doing it wrong', 1, 2]]}]}]}"
   ]
  },
  {
   "cell_type": "markdown",
   "metadata": {},
   "source": [
    "<a id='tuples'></a>\n",
    "# Tuples\n",
    "\n",
    "([Top](#contents)) In Python tuples are very similar to lists, however, unlike lists they are *immutable* meaning they can not be changed. You would use tuples to present things that shouldn't be changed, such as days of the week, or dates on a calendar. \n",
    "\n",
    "You'll have an intuition of how to use tuples based on what you've learned about lists. We can treat them very similarly with the major distinction being that tuples are immutable.\n",
    "\n",
    "## Constructing Tuples\n",
    "\n",
    "The construction of a tuples use `()` with elements separated by commas. For example:"
   ]
  },
  {
   "cell_type": "code",
   "execution_count": null,
   "metadata": {},
   "outputs": [],
   "source": [
    "tup = (\"This will not change\", True)"
   ]
  },
  {
   "cell_type": "code",
   "execution_count": null,
   "metadata": {},
   "outputs": [],
   "source": [
    "print(tup)"
   ]
  },
  {
   "cell_type": "markdown",
   "metadata": {},
   "source": [
    "## Immutability\n",
    "\n",
    "It can't be stressed enough that tuples are immutable.\n",
    "**No variable reassignment!**\n",
    "\n",
    "To drive that point home:"
   ]
  },
  {
   "cell_type": "code",
   "execution_count": null,
   "metadata": {},
   "outputs": [],
   "source": [
    "tup[0] = \"This will not work"
   ]
  },
  {
   "cell_type": "code",
   "execution_count": null,
   "metadata": {},
   "outputs": [],
   "source": [
    "print(tup[0])"
   ]
  },
  {
   "cell_type": "markdown",
   "metadata": {},
   "source": [
    "<a id='sets'></a>\n",
    "# Sets\n",
    "\n",
    "([Top](#contents)) Sets are an **unordered collection of *unique* elements**. We can construct them by using the set() function.\n",
    "\n",
    "What's the purpose? One main reason is to **identify unique elements from a list**"
   ]
  },
  {
   "cell_type": "code",
   "execution_count": null,
   "metadata": {},
   "outputs": [],
   "source": [
    "x = set()"
   ]
  },
  {
   "cell_type": "code",
   "execution_count": null,
   "metadata": {},
   "outputs": [],
   "source": [
    "x.add(1)"
   ]
  },
  {
   "cell_type": "code",
   "execution_count": null,
   "metadata": {},
   "outputs": [],
   "source": [
    "x"
   ]
  },
  {
   "cell_type": "markdown",
   "metadata": {},
   "source": [
    "Note the curly brackets. This does not indicate a dictionary! Although you can draw analogies as a set being a dictionary with only keys.\n",
    "\n",
    "We know that a set has only unique entries. So what happens when we try to add something that is already in a set?"
   ]
  },
  {
   "cell_type": "code",
   "execution_count": null,
   "metadata": {},
   "outputs": [],
   "source": [
    "x.add(1)"
   ]
  },
  {
   "cell_type": "code",
   "execution_count": null,
   "metadata": {},
   "outputs": [],
   "source": [
    "x # Notice how there is still only 1 element?"
   ]
  },
  {
   "cell_type": "markdown",
   "metadata": {},
   "source": [
    "<a id='if-else'></a>\n",
    "# if, elif, else Statements\n",
    "\n",
    "([Top](#contents)) <code>if</code> Statements in Python allows us to tell the computer to perform alternative actions based on a certain set of results.\n",
    "\n",
    "Syntax:\n",
    "\n",
    "    if case1:\n",
    "        perform action1\n",
    "    elif case2:\n",
    "        perform action2\n",
    "    else: \n",
    "        perform action3"
   ]
  },
  {
   "cell_type": "code",
   "execution_count": null,
   "metadata": {},
   "outputs": [],
   "source": [
    "if True:\n",
    "    print(\"This will print\")"
   ]
  },
  {
   "cell_type": "markdown",
   "metadata": {},
   "source": [
    "<a id='operators'></a>\n",
    "# Assignment / Mathematical Operators\n",
    "(Back to sides!)\n",
    "\n",
    "([Top](#contents)) **Useful for the practice below**\n",
    "\n",
    "`%` - Finds the remainder I.e. `10 % 3 = 1`\n",
    "`==` is similar to `is` which checks if two elements are equal\n",
    "\n",
    "For those who are interested in knowing the subtle differences,\n",
    "`==` checks for equality of values I.e. `False == 0` returns `True`\n",
    "`is` checks for equality of objects (Whether they are the same object) I.e. `False == 0` returns `False`\n",
    "\n",
    "More information can be found [here](https://www.geeksforgeeks.org/difference-operator-python/)."
   ]
  },
  {
   "cell_type": "code",
   "execution_count": null,
   "metadata": {},
   "outputs": [],
   "source": [
    "# Practice 6:\n",
    "# Using the variable 'num' below,\n",
    "# Print \"Even\" if an even number is given \n",
    "# Print \"Odd\" if an odd number is given\"\n",
    "# Print \"Not a number!\" if a number was not provided"
   ]
  },
  {
   "cell_type": "code",
   "execution_count": null,
   "metadata": {},
   "outputs": [],
   "source": [
    "num = 3\n",
    "\n",
    "# Insert code below"
   ]
  },
  {
   "cell_type": "markdown",
   "metadata": {},
   "source": [
    "<a id='for'></a>\n",
    "# for Loops\n",
    "\n",
    "([Top](#contents)) A <code>for</code> loop acts as an iterator in Python; it goes through items that are in a *sequence* or any other iterable item. Objects that we've learned about that we can iterate over include strings, lists, tuples, and even built-in iterables for dictionaries, such as keys or values.\n",
    "\n",
    "We've already seen the <code>for</code> statement a little bit in past lectures but now let's formalize our understanding.\n",
    "\n",
    "Here's the general format for a <code>for</code> loop in Python:\n",
    "\n",
    "    for item in object:\n",
    "        statements to do stuff\n",
    "    "
   ]
  },
  {
   "cell_type": "code",
   "execution_count": null,
   "metadata": {},
   "outputs": [],
   "source": [
    "# Iterating through a list\n",
    "list1 = [1,2,3,4,5,6,7,8,9,10]\n",
    "# Note: The list can also be created via range()\n",
    "list2 = list(range(1,11))"
   ]
  },
  {
   "cell_type": "code",
   "execution_count": null,
   "metadata": {},
   "outputs": [],
   "source": [
    "for el in list1:\n",
    "    print(i)\n",
    "    \n",
    "# This is the same as the following:\n",
    "for el in range(1,11):\n",
    "    print(i)"
   ]
  },
  {
   "cell_type": "markdown",
   "metadata": {},
   "source": [
    "## Example\n",
    "Recall the Fibonacci Sequence we learnt in Activity 1 Week 5 Cohort 1 of Modelling & Analysis \n",
    "(Sorry guys, it's the most relatable concept I can think of right now)\n",
    "\n",
    "The sequence is defined as F_0 = F_1 = 1. F_(n+2) = F_(n+1) + F_n for n more than or equal to 0\n",
    "\n",
    "So, how do we automate that for us in code instead of Excel?"
   ]
  },
  {
   "cell_type": "code",
   "execution_count": null,
   "metadata": {},
   "outputs": [],
   "source": [
    "# Number of steps\n",
    "n = 10\n",
    "\n",
    "# Define first and second element of Fibonacci sequence to be '1' and '1'\n",
    "if n == 0:\n",
    "    l = [1]\n",
    "elif n == 1:\n",
    "    l = [1,1]\n",
    "else:\n",
    "    l = [1,1]\n",
    "    n1 = 1\n",
    "    n2 = 1\n",
    "    # Code out the Fibonacci Sequence\n",
    "    for i in range(2,n+1):\n",
    "        n3 = n1 + n2\n",
    "        n1 = n2\n",
    "        n2 = n3\n",
    "        l.append(n3)\n",
    "        \n",
    "print(l)    "
   ]
  },
  {
   "cell_type": "code",
   "execution_count": null,
   "metadata": {},
   "outputs": [],
   "source": [
    "max = 10\n",
    "# Practice 7: Calculate the sum of all numbers from 1 to max (INCLUSIVE)"
   ]
  },
  {
   "cell_type": "markdown",
   "metadata": {},
   "source": [
    "<a id='list-comprehension'></a>\n",
    "# List Comprehension\n",
    "([Top](#contents)) Python has an advanced feature called list comprehensions. They allow for quick construction of lists.\n",
    "You can think of it as essentially a one line <code>for</code> loop built inside of brackets.\n",
    "\n",
    "**Pros**\n",
    "* Shorten code into one line\n",
    "\n",
    "**Cons**\n",
    "* Potential decrease in readability of code"
   ]
  },
  {
   "cell_type": "code",
   "execution_count": null,
   "metadata": {},
   "outputs": [],
   "source": [
    "# Grab every letter in string\n",
    "lst = [x for x in 'word']"
   ]
  },
  {
   "cell_type": "code",
   "execution_count": null,
   "metadata": {},
   "outputs": [],
   "source": [
    "print(lst)"
   ]
  },
  {
   "cell_type": "code",
   "execution_count": null,
   "metadata": {},
   "outputs": [],
   "source": [
    "# Square numbers in range and turn into list\n",
    "lst = [x**2 for x in range(0,11)]"
   ]
  },
  {
   "cell_type": "code",
   "execution_count": null,
   "metadata": {},
   "outputs": [],
   "source": [
    "print(lst)"
   ]
  },
  {
   "cell_type": "code",
   "execution_count": null,
   "metadata": {},
   "outputs": [],
   "source": [
    "# Outputting elements which fit the 'if' condition\n",
    "lst = [x for x in range(11) if x % 2 == 0]"
   ]
  },
  {
   "cell_type": "code",
   "execution_count": null,
   "metadata": {},
   "outputs": [],
   "source": [
    "print(lst)"
   ]
  },
  {
   "cell_type": "code",
   "execution_count": null,
   "metadata": {},
   "outputs": [],
   "source": [
    "# Outputting all elements of 'for' loop according to 'if-else' condition\n",
    "# (Contrast this with the one directly above!)\n",
    "lst = [\"Even\" if i%2==0 else \"Odd\" for i in range(11)]\n"
   ]
  },
  {
   "cell_type": "code",
   "execution_count": null,
   "metadata": {},
   "outputs": [],
   "source": [
    "print(lst)"
   ]
  },
  {
   "cell_type": "markdown",
   "metadata": {},
   "source": [
    "<a id='function'></a>\n",
    "# Functions (Last Section!)\n",
    "\n",
    "## Introduction to Functions\n",
    "\n",
    "\n",
    "([Top](#contents)) Formally, a function is a useful device that groups together a set of statements so they can be run more than once. They can also let us specify parameters that can serve as inputs to the functions.\n",
    "\n",
    "Essentially, functions are just like the *clusters* we learnt about in Grasshopper. It allows code to be reused over and over again without us rewriting everything."
   ]
  },
  {
   "cell_type": "code",
   "execution_count": null,
   "metadata": {},
   "outputs": [],
   "source": [
    "def name_of_function(arg1,arg2):\n",
    "    '''\n",
    "    This is where the function's Document String (docstring) goes.\n",
    "    It allows other users to understand what your function does.\n",
    "    '''\n",
    "    # Do stuff here\n",
    "    # Return desired result"
   ]
  },
  {
   "cell_type": "code",
   "execution_count": null,
   "metadata": {},
   "outputs": [],
   "source": [
    "# To view docstring, press 'SHIFT' + 'TAB' simultaneously after clicking at the end of the function's name\n",
    "name_of_function"
   ]
  },
  {
   "cell_type": "markdown",
   "metadata": {},
   "source": [
    "<a id='practice'></a>\n",
    "# Practice\n",
    "([Top](#contents))\n",
    "\n",
    "## 1) FizzBuzz\n",
    "### **Level 1**\n",
    "Create a function that takes a number as an argument and returns \"Fizz\", \"Buzz\" or \"FizzBuzz\".\n",
    "* If the number is a multiple of 3 the output should be \"Fizz\".\n",
    "* If the number given is a multiple of 5, the output should be \"Buzz\".\n",
    "* If the number given is a multiple of both 3 and 5, the output should be \"FizzBuzz\".\n",
    "* If the number is not a multiple of either 3 or 5, the number should be output on its own as shown in the examples below.\n",
    "* The output should always be a string even if it is not a multiple of 3 or 5.\n",
    "\n",
    "Examples:\n",
    "* `fizz_buzz(3)` prints `\"Fizz\"`\n",
    "* `fizz_buzz(5)` prints `\"Buzz\"`\n",
    "* `fizz_buzz(15)` prints `\"FizzBuzz\"`\n",
    "* `fizz_buzz(4)` prints `\"4\"`\n",
    "\n",
    "Requires knowledge of:\n",
    "* Numbers\n",
    "* If-Else\n",
    "* Functions\n",
    "\n",
    "### **Level 2** (Optional)\n",
    "Complete *Level 1* in one line (I.e. The entire code should be written in the same line as `return`).\n",
    "\n",
    "## 2) Word Builder\n",
    "### **Level 1**\n",
    "Create a function that builds a word from the scrambled letters contained in the first list. Use the second list to establish each position of the letters in the first list. Return a string from the unscrambled letters (that made-up the word).\n",
    "\n",
    "Examples:\n",
    "* `word_builder([\"g\", \"e\", \"o\"], [1, 0, 2])` returns `[\"e\", \"g\", \"o\"]`\n",
    "* `word_builder([\"e\", \"t\", \"s\", \"t\"], [3, 0, 2, 1])` returns `[\"t\", \"e\", \"s\", \"t\"]`\n",
    "\n",
    "Requires knowledge of:\n",
    "* Strings\n",
    "* Lists\n",
    "* For Loop\n",
    "* Functions\n",
    "\n",
    "### **Level 2** (Optional)\n",
    "Try to return the string instead of a list. \n",
    "Examples:\n",
    "* `word_builder([\"g\", \"e\", \"o\"], [1, 0, 2])` returns `\"ego\"`\n",
    "* `word_builder([\"e\", \"t\", \"s\", \"t\"], [3, 0, 2, 1])` returns `\"test\"`\n",
    "\n",
    "### **Level 3** (Optional)\n",
    "Complete *Level 2* in one line (I.e. The entire code should be written in the same line as `return`). You will require knowledge of code not taught in this workshop."
   ]
  },
  {
   "cell_type": "code",
   "execution_count": null,
   "metadata": {},
   "outputs": [],
   "source": [
    "def fizz_buzz(num):\n",
    "    # Insert code below\n",
    "    pass"
   ]
  },
  {
   "cell_type": "code",
   "execution_count": null,
   "metadata": {},
   "outputs": [],
   "source": [
    "# Uncomment the lines below to test your function\n",
    "# fizz_buzz(3)\n",
    "# fizz_buzz(4)\n",
    "# fizz_buzz(5)\n",
    "# fizz_buzz(15)"
   ]
  },
  {
   "cell_type": "code",
   "execution_count": null,
   "metadata": {},
   "outputs": [],
   "source": [
    "def word_builder(ltr, pos):\n",
    "    # Insert code below\n",
    "    pass"
   ]
  },
  {
   "cell_type": "code",
   "execution_count": null,
   "metadata": {},
   "outputs": [],
   "source": [
    "# Uncomment the line below to test your function\n",
    "# word_builder([\"g\", \"e\", \"o\"], [1, 0, 2])"
   ]
  },
  {
   "cell_type": "markdown",
   "metadata": {},
   "source": [
    "# Moving Forward\n",
    "There are numerous other built-in methods associated with the various data types shown today. \n",
    "It would be **counter-productive to dump all of these into the lesson today** as you will not be able to download everything.\n",
    "Instead, I **strongly recommend you to check out online courses and workshops** to become more proficient in Python syntax.\n",
    "\n",
    "Recommended online courses:\n",
    "* Coursera\n",
    "* edx\n",
    "\n",
    "Recommended sites for specific questions on code:\n",
    "* [Python Documentation](https://docs.python.org/3.8/)\n",
    "* Stack Overflow\n",
    "* w3schools, programmiz, geeksforgeeks, tutorialspoint\n",
    "\n",
    "**But honestly, just do a Google search. All these will likely appear as the top few results.**"
   ]
  },
  {
   "cell_type": "markdown",
   "metadata": {},
   "source": [
    "<a id='misc'></a>\n",
    "# Miscellaneous / FAQ\n",
    "([Top](#contents))"
   ]
  },
  {
   "cell_type": "markdown",
   "metadata": {},
   "source": [
    "# 1. Print vs Return\n",
    "I’ll start with a basic explanation. `print` just shows the human user a string representing what is going on inside the computer. The computer cannot make use of that printing. return is how a function gives back a value. This value is often unseen by the human user, but it can be used by the computer in further functions.\n",
    "\n",
    "On a more expansive note, `print` will not in any way affect a function. It is simply there for the human user’s benefit. It is very useful for understanding how a program works and can be used in debugging to check various values in a program without interrupting the program.\n",
    "\n",
    "`return` is the main way that a function returns a value."
   ]
  },
  {
   "cell_type": "markdown",
   "metadata": {},
   "source": [
    "## Differences\n",
    "### Outputting to console vs Showing humans a readable string\n",
    "Notice the `Out[]` This is a result of the `return` keyword.\n",
    "Try commenting out the `using_return()` and it will disappear.\n",
    "\n",
    "### Returning a value vs Returning nothing (NoneType)\n",
    "Because nothing is being returned from the using_print() function, the result is that you are adding `None` to `5`.\n",
    "This is invalid."
   ]
  },
  {
   "cell_type": "code",
   "execution_count": null,
   "metadata": {},
   "outputs": [],
   "source": [
    "# Example\n",
    "\n",
    "def using_print():\n",
    "    print(5)\n",
    "    \n",
    "def using_return():\n",
    "    return 5\n",
    "\n",
    "using_print()\n",
    "using_return()"
   ]
  },
  {
   "cell_type": "code",
   "execution_count": null,
   "metadata": {},
   "outputs": [],
   "source": [
    "# More differences\n",
    "\n",
    "5 + using_print()"
   ]
  },
  {
   "cell_type": "code",
   "execution_count": null,
   "metadata": {},
   "outputs": [],
   "source": [
    "5 + using_return()"
   ]
  },
  {
   "cell_type": "markdown",
   "metadata": {},
   "source": [
    "# 2. Parameters vs Arguments\n",
    "Parameters / Arguments are basically the same thing.\n",
    "**Key / Only Difference**\n",
    "* Parameters = Placeholder variables used when declaring / defining a function\n",
    "* Arguments = Variables that are actually passed into the function"
   ]
  },
  {
   "cell_type": "code",
   "execution_count": null,
   "metadata": {},
   "outputs": [],
   "source": [
    "# Example\n",
    "def example_func(param1, param2):\n",
    "    return param1+param2"
   ]
  },
  {
   "cell_type": "code",
   "execution_count": null,
   "metadata": {},
   "outputs": [],
   "source": [
    "# The following are arguments\n",
    "arg1 = 5\n",
    "arg2 = 10\n",
    "example_func(arg1, arg2)"
   ]
  },
  {
   "cell_type": "markdown",
   "metadata": {},
   "source": [
    "# 3. Attributes vs Properties\n",
    "\n",
    "- Attributes = Data Variables found in objects (Methods = Functions found in objects)\n",
    "- Properties = Special attributes that also calls unique methods ( `__get__`, `__set__`, `__delete__`)\n",
    "\n",
    "More information on properties can be found [here](https://www.tutorialspoint.com/What-is-the-difference-between-attributes-and-properties-in-python#:~:text=In%20python%2C%20everything%20is%20an,and%20__delete__%20methods.)."
   ]
  },
  {
   "cell_type": "markdown",
   "metadata": {},
   "source": [
    "# 4. Magic Methods (Why do some properties have __underscores__?)\n",
    "In essence, they are methods that allows your class to perform unique functionality. They are not meant to be called directly by you but by the code when another (built-in) method is called.\n",
    "\n",
    "*Because the code is hidden from the programmer, it is called 'magic'*.\n",
    "More information [here](https://www.tutorialsteacher.com/python/magic-methods-in-python)."
   ]
  },
  {
   "cell_type": "code",
   "execution_count": null,
   "metadata": {},
   "outputs": [],
   "source": [
    "# Example: Changing the definition of the '+' operator\n",
    "class magic:\n",
    "    def __init__(self, a=int):\n",
    "        self.n1 = a\n",
    "        \n",
    "    # Overloading the operator (I.e. Adding / Overwriting the original definition)\n",
    "    # In this case, I'm basically changing the '+' to a 'square' operator\n",
    "    def __add__(self, x):      \n",
    "        return (self.n1 + x)**2"
   ]
  },
  {
   "cell_type": "code",
   "execution_count": null,
   "metadata": {},
   "outputs": [],
   "source": [
    "new_obj = magic(1)"
   ]
  },
  {
   "cell_type": "code",
   "execution_count": null,
   "metadata": {},
   "outputs": [],
   "source": [
    "new_obj + 1"
   ]
  },
  {
   "cell_type": "markdown",
   "metadata": {},
   "source": [
    "# CONGRATULATIONS!"
   ]
  }
 ],
 "metadata": {
  "kernelspec": {
   "display_name": "Python 3",
   "language": "python",
   "name": "python3"
  },
  "language_info": {
   "codemirror_mode": {
    "name": "ipython",
    "version": 3
   },
   "file_extension": ".py",
   "mimetype": "text/x-python",
   "name": "python",
   "nbconvert_exporter": "python",
   "pygments_lexer": "ipython3",
   "version": "3.7.4"
  }
 },
 "nbformat": 4,
 "nbformat_minor": 2
}
