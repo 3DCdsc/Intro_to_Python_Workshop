{
 "cells": [
  {
   "source": [
    "# Welcome to lesson 2 of this python workshop\n",
    "\n",
    "## What will we be doing today\n",
    "- Do more practices to get you familar with coding\n",
    "- Introduce new concepts like while loop and dictionary\n",
    "- Some interesting things that you can do with python\n"
   ],
   "cell_type": "markdown",
   "metadata": {}
  },
  {
   "cell_type": "markdown",
   "metadata": {},
   "source": [
    "# Warm up and recap\n",
    "\n",
    "- Try to figure out what the following outputs before you run the code to check"
   ]
  },
  {
   "cell_type": "markdown",
   "metadata": {},
   "source": [
    "# Q1 : Final Score Calculator\n",
    "\n",
    "Let's write some Python code that helps you calculate your final <b>cumulative score</b> for a course titled \"Introduction to University Life\".\n",
    "\n",
    "This course has several assessments. For each assessment, there is a <b>total score</b>, which is the maximum score you could achieve for that assessment. Each assessment counts towards a certain <b>percentage of the final cumulative score</b>. The final cumulative score is on a scale of <b>[0 - 100]</b>.\n",
    "\n",
    "The assessments of this course are shown below:\n",
    "\n",
    "<ul>\n",
    "<li>Assignments:\n",
    "    <ul>\n",
    "        <li>Assignment 1: (total score 10 marks), 10%</li>\n",
    "        <li>Assignment 2: (total score 10 marks), 10%</li>\n",
    "        <li>Assignment 3: (total score 10 marks), 10%</li>\n",
    "    </ul>\n",
    "</li>\n",
    "<li>Tests:\n",
    "    <ul>\n",
    "        <li>Test 1: (total score 30 marks), 15%</li>\n",
    "        <li>Test 2: (total score 40 marks), 20%</li>\n",
    "        <li>Exam: (total score 140 marks), 35%</li>\n",
    "    </ul>\n",
    "</li>\n",
    "</ul>\n",
    "\n",
    "For example, Test 1 is 30 marks in total and counts towards 15% of your final score. If your raw score for Test 1 is 20 marks, it is two thirds of the total score for Test 1 and it will contribute 10 marks (which is two thirds of 15) to your final cumulative score.\n",
    "\n",
    "Your code should produce the following sample output:<br /><img align=\"left\" src='https://drive.google.com/uc?export=view&id=0B08uY8vosNfodDdrN1hFVi1rdFE' style=\"width: 350px; height: 130px;\">"
   ]
  },
  {
   "cell_type": "code",
   "execution_count": 1,
   "metadata": {},
   "outputs": [
    {
     "output_type": "error",
     "ename": "ValueError",
     "evalue": "could not convert string to float: ''",
     "traceback": [
      "\u001b[1;31m---------------------------------------------------------------------------\u001b[0m",
      "\u001b[1;31mValueError\u001b[0m                                Traceback (most recent call last)",
      "\u001b[1;32m<ipython-input-1-ae41e80b3742>\u001b[0m in \u001b[0;36m<module>\u001b[1;34m\u001b[0m\n\u001b[0;32m      2\u001b[0m \u001b[1;31m# Write your code below:\u001b[0m\u001b[1;33m\u001b[0m\u001b[1;33m\u001b[0m\u001b[1;33m\u001b[0m\u001b[0m\n\u001b[0;32m      3\u001b[0m \u001b[1;31m# #########################\u001b[0m\u001b[1;33m\u001b[0m\u001b[1;33m\u001b[0m\u001b[1;33m\u001b[0m\u001b[0m\n\u001b[1;32m----> 4\u001b[1;33m \u001b[0mA1\u001b[0m \u001b[1;33m=\u001b[0m \u001b[0mfloat\u001b[0m\u001b[1;33m(\u001b[0m\u001b[0minput\u001b[0m\u001b[1;33m(\u001b[0m\u001b[1;34m\"What's your score for Assignment 1?\"\u001b[0m\u001b[1;33m)\u001b[0m\u001b[1;33m)\u001b[0m\u001b[1;33m\u001b[0m\u001b[1;33m\u001b[0m\u001b[0m\n\u001b[0m\u001b[0;32m      5\u001b[0m \u001b[0mA2\u001b[0m \u001b[1;33m=\u001b[0m \u001b[0mfloat\u001b[0m\u001b[1;33m(\u001b[0m\u001b[0minput\u001b[0m\u001b[1;33m(\u001b[0m\u001b[1;34m\"What's your score for Assigment 2?\"\u001b[0m\u001b[1;33m)\u001b[0m\u001b[1;33m)\u001b[0m\u001b[1;33m\u001b[0m\u001b[1;33m\u001b[0m\u001b[0m\n\u001b[0;32m      6\u001b[0m \u001b[0mA3\u001b[0m \u001b[1;33m=\u001b[0m \u001b[0mfloat\u001b[0m\u001b[1;33m(\u001b[0m\u001b[0minput\u001b[0m\u001b[1;33m(\u001b[0m\u001b[1;34m\"What's your score for Assignment 3?\"\u001b[0m\u001b[1;33m)\u001b[0m\u001b[1;33m)\u001b[0m\u001b[1;33m\u001b[0m\u001b[1;33m\u001b[0m\u001b[0m\n",
      "\u001b[1;31mValueError\u001b[0m: could not convert string to float: ''"
     ]
    }
   ],
   "source": [
    "# #########################\n",
    "# Write your code below:\n",
    "# #########################\n",
    "A1 = float(input(\"What's your score for Assignment 1?\"))\n",
    "A2 = float(input(\"What's your score for Assigment 2?\"))\n",
    "A3 = float(input(\"What's your score for Assignment 3?\"))\n",
    "T1 = float(input(\"What's your score for Test 1?\"))\n",
    "T2 = float(input(\"What's your score for Test 2?\"))\n",
    "EX = float(input(\"What's your score for the exam?\"))\n",
    "\n",
    "final= ((A1+A2+A3) + (15*(T1/30)) + (20*(T2/40)) + (35*(EX/140)))\n",
    "\n",
    "print(\"Your final cumulative score is \" + str(final) + \"/100\")"
   ]
  },
  {
   "cell_type": "markdown",
   "metadata": {},
   "source": [
    "### Q2: Currency\n",
    "\n",
    "\n",
    "If you visit the United States, you'll need to get familiar with their currency and the various <b>coins</b> and <b>notes</b> in circulation. Look at this link to find out more about their various coins and notes: \n",
    "http://www.immihelp.com/newcomer/usa-currency-coins.html\n",
    "\n",
    "Here's a list of common coins:\n",
    "<ul>\n",
    "<li>Penny - 1 cent</li>\n",
    "<li>Nickle - 5 cents</li>\n",
    "<li>Dime - 10 cents</li>\n",
    "<li>Quarter - 25 cents</li>\n",
    "</ul>\n",
    "\n",
    "And the commonly used notes are : \\$1, \\$5, \\$10 and \\$20 notes.\n",
    "\n",
    "Let's write some Python code that prompts the user for an amount to pay (in US$) and that helps him/her to know <b>how many coins or notes</b> he/she has to provide in each denomination, to provide the <b>exact change</b>. <br />\n",
    "Some starting code is already given to you (which takes care of the conversion pricision from float to int - you can ignore ).\n",
    "\n",
    "Your code should produce the following sample output:<br /><img align=\"left\" src='https://drive.google.com/uc?export=view&id=0B08uY8vosNfoSHQ3NjZvd0YtQWc' style=\"width: 290px; height: 180px;\">"
   ]
  },
  {
   "cell_type": "code",
   "execution_count": 4,
   "metadata": {},
   "outputs": [
    {
     "name": "stdout",
     "output_type": "stream",
     "text": [
      "Enter payment amount (US$) :123.36\n",
      "You need to give:\n",
      "6.0 20 dollar notes\n",
      "0.0 10 dollar notes\n",
      "0.0 5 dollar notes\n",
      "3.0 1 dollar notes\n",
      "1.0 quarter coins\n",
      "1.0 dime coins\n",
      "0.0 nickle coins\n",
      "0.0 penny coins\n"
     ]
    }
   ],
   "source": [
    "#Q2 #########\n",
    "\n",
    "amount = float(input(\"Enter payment amount (US$) :\"))\n",
    "\n",
    "# ################################\n",
    "# Write your code below:\n",
    "# ################################\n",
    "\n",
    "a= (amount//20)\n",
    "b= ((amount-(20*a))//10)\n",
    "c= ((amount-(20*a)-(10*b))//5)\n",
    "d= ((amount-(20*a)-(10*b)-(5*c))//1)\n",
    "e= ((amount-(20*a)-(10*b)-(5*c)-d)//0.25)\n",
    "f= ((amount-(20*a)-(10*b)-(5*c)-d-(0.25*e))//0.1)\n",
    "g= ((amount-(20*a)-(10*b)-(5*c)-d-(0.25*e)-(0.1*f))//0.05)\n",
    "h= ((amount-(20*a)-(10*b)-(5*c)-d-(0.25*e)-(0.1*f)-(0.05*g))//0.01)\n",
    "\n",
    "print(\"You need to give:\" + '\\n'+\n",
    "      str(a) + \" 20 dollar notes\" +'\\n'+\n",
    "      str (b) + \" 10 dollar notes\" + '\\n'+\n",
    "      str(c) + \" 5 dollar notes\" +'\\n'+\n",
    "      str(d)  + \" 1 dollar notes\"+ '\\n'+\n",
    "      str (e) + \" quarter coins\" + '\\n'+\n",
    "      str (f) + \" dime coins\" + '\\n'+\n",
    "      str (g) +\" nickle coins\" + '\\n'+\n",
    "      str (h) + \" penny coins\")\n"
   ]
  },
  {
   "cell_type": "markdown",
   "metadata": {},
   "source": [
    "<a id='function'></a>\n",
    "# Functions (Last Section!)\n",
    "\n",
    "## Introduction to Functions\n",
    "\n",
    "Why do we use functions?\n",
    "- minimize the repeation of code\n",
    "- break down a bigger problem into simpler problem and solved them by parts\n",
    "- increase code cleaniness\n",
    "- easier for debugging\n",
    "- and many more\n",
    "\n",
    "Formally, a function is a useful device that groups together a set of statements so they can be run more than once. They can also let us specify parameters that can serve as inputs to the functions.\n",
    "\n",
    "Essentially, functions are just like the *clusters* we learnt about in Grasshopper. It allows code to be reused over and over again without us rewriting everything."
   ]
  },
  {
   "cell_type": "code",
   "execution_count": null,
   "metadata": {},
   "outputs": [],
   "source": [
    "def name_of_function(arg1,arg2):\n",
    "    '''\n",
    "    This is where the function's Document String (docstring) goes.\n",
    "    It allows other users to understand what your function does.\n",
    "    '''\n",
    "    # Do stuff here\n",
    "    # Return desired result"
   ]
  },
  {
   "cell_type": "markdown",
   "metadata": {},
   "source": [
    "### Q3: Shopping Cart\n",
    "\n",
    "<b>Part 1 [ \\*\\* ]</b>: Implement a function called `calculate_price_after_discount` that takes in the following parameters:\n",
    "\n",
    "<ul>\n",
    "<li>`unit_price`: the unit price of an item</li>\n",
    "<li>`quantity`: the quantity of that item</li>\n",
    "<li>`discount`: the discount rate offered by the store for that item (e.g. 10 % off...)</li>\n",
    "</ul>\n",
    "\n",
    "and returns how much the customer has to pay for buying that particular quantity of items (after discount).\n",
    "\n",
    "For example, if the unit price of a ruler is <b>&dollar;1.50</b>, the quantity is <b>5</b> and the discount is <b>10&percnt;</b>, then the final price to pay will be $1.5 \\times 5 \\times (1 - 10/100)$, which is <b>&dollar;6.75</b>."
   ]
  },
  {
   "cell_type": "code",
   "execution_count": null,
   "metadata": {},
   "outputs": [],
   "source": [
    "# ########################\n",
    "# Write your code below:\n",
    "# ########################\n",
    "\n",
    "def calculate_price_after_discount(unit_price, quantity, discount):\n",
    "    final=(unit_price*quantity*(1-discount/100))\n",
    "    return round(final, 2)"
   ]
  },
  {
   "cell_type": "markdown",
   "metadata": {},
   "source": [
    "<b>Part 2 [ \\* ]</b>: Given the following items in the shopping cart with their unit price, quantity and discount, calculate the value of the <b>total payment after discount</b>:\n",
    "\n",
    "<ul>\n",
    "<li>milk: &dollar;5.95, 2, 10&percnt;</li>\n",
    "<li>rice: &dollar;6.50, 1, 5&percnt;</li>\n",
    "<li>eggs: &dollar;2.40, 2, 0&percnt;</li>\n",
    "<li>kaya: &dollar;3.95, 3, 15&percnt;</li>\n",
    "</ul>\n",
    "\n",
    "Your code should produce the following sample output: <br />\n",
    "<img align=\"left\" src='https://drive.google.com/uc?export=view&id=0B08uY8vosNfoYVdZbmF6VUlYN0E' style=\"width: 400px; height: 50px;\">"
   ]
  },
  {
   "cell_type": "code",
   "execution_count": null,
   "metadata": {},
   "outputs": [],
   "source": [
    "# Q3_part2\n",
    "\n",
    "# ########################\n",
    "# Write your code below:\n",
    "# ########################\n",
    "\n",
    "# milk=(5.95, 2, 10)\n",
    "# rice=(6.50, 1, 5)\n",
    "# eggs=(2.40, 2, 0)\n",
    "# kaya=(3.95, 3, 15)\n",
    "\n",
    "milk=calculate_price_after_discount(5.95, 2, 10)\n",
    "rice=calculate_price_after_discount(6.50, 1, 5)\n",
    "eggs=calculate_price_after_discount(2.40, 2, 0)\n",
    "kaya=calculate_price_after_discount(3.95, 3, 15)\n",
    "\n",
    "total= milk+eggs+kaya+rice\n",
    "\n",
    "print(\"The total of your shopping cart after discount is \"+ str(total))\n",
    "\n",
    "\n",
    "\n"
   ]
  },
  {
   "cell_type": "markdown",
   "metadata": {},
   "source": [
    "# For loops and if else statements\n",
    "<a id='for'></a>\n",
    "# for Loops\n",
    "\n",
    "([Top](#contents)) A <code>for</code> loop acts as an iterator in Python; it goes through items that are in a *sequence* or any other iterable item. Objects that we've learned about that we can iterate over include strings, lists, tuples, and even built-in iterables for dictionaries, such as keys or values.\n",
    "\n",
    "We've already seen the <code>for</code> statement a little bit in past lectures but now let's formalize our understanding.\n",
    "\n",
    "Here's the general format for a <code>for</code> loop in Python:\n",
    "\n",
    "    for item in object:\n",
    "        statements to do stuff\n",
    "        \n",
    "<a id='if-else'></a>\n",
    "# if, elif, else Statements\n",
    "\n",
    "<code>if</code> Statements in Python allows us to tell the computer to perform alternative actions based on a certain set of results.\n",
    "\n",
    "Syntax:\n",
    "\n",
    "    if case1:\n",
    "        perform action1\n",
    "    elif case2:     #if case 1 not true but case 2 is true, perform action two\n",
    "        perform action2\n",
    "    else:           \n",
    "        perform action3"
   ]
  },
  {
   "cell_type": "markdown",
   "metadata": {},
   "source": [
    "### Q3: Ciphertext\n",
    "\n",
    "<b>Ciphertext</b> is a result of encryption performed on plaintext using a algorithm, inorder for you to encode and decode a ciphertext you need a key.\n",
    "\n",
    "How the encryption work: you have a string from a-z and for all the letters in the key, you take out these letters from the string and place it at the back of the string to give you a different series of 26 characters. Then you map whatever that is in the text from the first string to the second string\n",
    "    \n",
    "<b>Part 1 [ \\*\\* ]</b>: Implement a function called `cipher_text` that takes in the following parameters:\n",
    "\n",
    "<ul>\n",
    "<li>`text`: the text to be encrypted</li>\n",
    "<li>`key`: the key used to encrypt the text</li>\n",
    "</ul>\n",
    "\n",
    "and returns the encrypted text\n",
    "\n",
    "For example, The text is <b>i love sutd</b>, the key is <b>apple</b> then the second string will be <b>bcdfghijkmnoqrstuvwxyzaple</b> Then you compare the first string, the second string and the text. <b>i</b> is at position 8 of the first string and hence it should be replace by the character at position 8 of the second string which is <b>k</b> so on and in the end you will get a encrypted text <b>k oszg wyxf</b> \n",
    "\n",
    "You may find the function string.index(ch) useful, it reutrns you the position of ch in the string, this works with a list also"
   ]
  },
  {
   "cell_type": "code",
   "execution_count": 17,
   "metadata": {},
   "outputs": [
    {
     "name": "stdout",
     "output_type": "stream",
     "text": [
      "k oszg wyxf\n"
     ]
    }
   ],
   "source": [
    "def cipher_text(text,key) #can break down into smaller functions \n",
    "    first_string = 'abcdefghijklmnopqrstuvwxyz'\n",
    "    second_string = ''\n",
    "    for ch in first_string:\n",
    "        if ch not in key:\n",
    "            second_string += ch\n",
    "    for ch in key:\n",
    "        if ch not in second_string:\n",
    "            second_string += ch\n",
    "            \n",
    "    encrypted_text = ''\n",
    "    for ch in text:\n",
    "        if ch == ' ':\n",
    "            encrypted_text += ' '\n",
    "        else:\n",
    "            pos = first_string.index(ch)\n",
    "            encrypted_text += second_string[pos]\n",
    "    return encrypted_text"
   ]
  },
  {
   "cell_type": "markdown",
   "metadata": {},
   "source": [
    "<b>Part 2 [ \\*\\* ]</b>: Those of you who are interested or faster than the rest can try to implement a function called `decipher_text` to convert the encrypted message into normal language.\n"
   ]
  },
  {
   "cell_type": "markdown",
   "metadata": {},
   "source": [
    "# While loop\n",
    "- abit similar to for loop, but it keeps running until the condition is false\n",
    "- the main difference between for loop and while loop is \n",
    "    - for loop is used in situations where you know the number of iterations to go through\n",
    "    - while loop is used in situations where you do not know the number of iterations to go through but you know what is the condition that it should stop\n",
    "    "
   ]
  },
  {
   "cell_type": "code",
   "execution_count": null,
   "metadata": {},
   "outputs": [],
   "source": [
    "# one of the important application of while loop is to validate input from user\n",
    "# prompt the user to input their gender and if its not M or F you will notify them that its wrong input and ask them to input again\n",
    "\n",
    "# Put your code below\n",
    "gender= input(\"What's your gender? Please enter M or F: \")\n",
    "while not(gender == 'M' or gender == 'F'):\n",
    "    print(\"Wrong input\")\n",
    "    gender= input(\"What's your gender? Please enter M or F: \")\n",
    "\n",
    "if gender == 'M':\n",
    "    print(\"Thanks! Your gender is male.\")\n",
    "    \n",
    "if gender == 'F':\n",
    "    print(\"Thanks! Your gender is female\")\n",
    "    \n"
   ]
  },
  {
   "cell_type": "markdown",
   "metadata": {},
   "source": [
    "### Q4: Number Guessing Game\n",
    "\n",
    "<b>Part 1</b>\n",
    "Write a piece of code that does the following:\n",
    "\n",
    "- The program first generates a random number between 1 and 100 (both inclusive). You can try to make the range to be a user input\n",
    "  <br />You can use the `randrange()` or `randint()` function from the `random` module to generate the number.\n",
    "- The program then keeps prompting the user to guess the random number generated until the user's guess is correct. When the guess is wrong, the program gives a hint about whether the guess is too low or too high.\n",
    "\n",
    "A sample run of the program can be found below. Note that in this sample run 95 is the random number generated in the beginning.\n",
    "\n",
    "    Enter your guess (between 1 and 100) :34\n",
    "    Your guess is too low!\n",
    "    \n",
    "    Enter your guess (between 1 and 100) :58\n",
    "    Your guess is too low!\n",
    "    \n",
    "    Enter your guess (between 1 and 100) :73\n",
    "    Your guess is too low!\n",
    "    \n",
    "    Enter your guess (between 1 and 100) :86\n",
    "    Your guess is too low!\n",
    "    \n",
    "    Enter your guess (between 1 and 100) :99\n",
    "    Your guess is too high!\n",
    "    \n",
    "    Enter your guess (between 1 and 100) :90\n",
    "    Your guess is too low!\n",
    "    \n",
    "    Enter your guess (between 1 and 100) :95\n",
    "    \n",
    "    Bingo!\n",
    "\n",
    "Another sample run is below. This time 47 is the random number generated in the beginning.\n",
    "\n",
    "    Enter your guess (between 1 and 100):50\n",
    "    Your guess is too high!\n",
    "    \n",
    "    Enter your guess (between 1 and 100):25\n",
    "    Your guess is too low!\n",
    "    \n",
    "    Enter your guess (between 1 and 100):37\n",
    "    Your guess is too low!\n",
    "    \n",
    "    Enter your guess (between 1 and 100):43\n",
    "    Your guess is too low!\n",
    "    \n",
    "    Enter your guess (between 1 and 100):47\n",
    "    \n",
    "    Bingo!\n",
    "    \n",
    "__Note:__ You cannot reproduce the same output as shown above because your program will likely generate a different random number."
   ]
  },
  {
   "cell_type": "code",
   "execution_count": null,
   "metadata": {},
   "outputs": [],
   "source": [
    "# Put your code below\n",
    "import random\n",
    "random_value= random.randrange(1,100)\n",
    "guess= int(input(\"Enter your guess (between 1 and 100): \"))\n",
    "while not (guess == random_value):\n",
    "    if guess > random_value:\n",
    "        print(\"Your guess is too high!\")\n",
    "        guess= int(input(\"Enter your guess (between 1 and 100): \"))\n",
    "    if guess < random_value:\n",
    "        print(\"Your guess is too low!\")\n",
    "        guess= int(input(\"Enter your guess (between 1 and 100): \"))\n",
    "        \n",
    "print(\"Bingo!\")\n",
    "        \n"
   ]
  },
  {
   "cell_type": "markdown",
   "metadata": {},
   "source": [
    "### Q4: Number Guessing Game\n",
    "\n",
    "<b>Part 2</b>\n",
    "Write a piece of code that does the following:\n",
    "\n",
    "- The program first generates a random number between 1 and 100 (both inclusive). You can try to make the range to be a user input\n",
    "  <br />You can use the `randrange()` or `randint()` function from the `random` module to generate the number.\n",
    "- The program then keeps prompting the user to guess the random number generated until the user's guess is correct. When the guess is wrong, the program gives a hint about whether the guess is too low or too high and keep track of the current range of valid guesses.\n",
    "\n",
    "A sample run of the program can be found below. Note that in this sample run 95 is the random number generated in the beginning.\n",
    "\n",
    "    Enter your guess (between 1 and 100) :34\n",
    "    Your guess is too low!\n",
    "    \n",
    "    Enter your guess (between 34 and 100) :58\n",
    "    Your guess is too low!\n",
    "    \n",
    "    Enter your guess (between 58 and 100) :73\n",
    "    Your guess is too low!\n",
    "    \n",
    "    Enter your guess (between 73 and 100) :86\n",
    "    Your guess is too low!\n",
    "    \n",
    "    Enter your guess (between 86 and 100) :99\n",
    "    Your guess is too high!\n",
    "    \n",
    "    Enter your guess (between 86 and 99) :90\n",
    "    Your guess is too low!\n",
    "    \n",
    "    Enter your guess (between 90 and 99) :95\n",
    "    \n",
    "    Bingo!\n",
    "\n"
   ]
  },
  {
   "cell_type": "code",
   "execution_count": 2,
   "metadata": {},
   "outputs": [
    {
     "name": "stdout",
     "output_type": "stream",
     "text": [
      "Enter the start of the range:2\n",
      "Enter the end of the range:200\n",
      "90\n",
      "Enter your guess (between2 and 200): 132\n",
      "Your guess is too high!\n",
      "Enter your guess (between2 and 132): 13\n",
      "Your guess is too low!\n"
     ]
    },
    {
     "ename": "KeyboardInterrupt",
     "evalue": "Interrupted by user",
     "output_type": "error",
     "traceback": [
      "\u001b[1;31m---------------------------------------------------------------------------\u001b[0m",
      "\u001b[1;31mKeyboardInterrupt\u001b[0m                         Traceback (most recent call last)",
      "\u001b[1;32m<ipython-input-2-b19d3e0fd8f5>\u001b[0m in \u001b[0;36m<module>\u001b[1;34m\u001b[0m\n\u001b[0;32m     13\u001b[0m         \u001b[0mstart\u001b[0m \u001b[1;33m=\u001b[0m \u001b[0mguess\u001b[0m\u001b[1;33m\u001b[0m\u001b[1;33m\u001b[0m\u001b[0m\n\u001b[0;32m     14\u001b[0m         \u001b[0mprint\u001b[0m\u001b[1;33m(\u001b[0m\u001b[1;34m\"Your guess is too low!\"\u001b[0m\u001b[1;33m)\u001b[0m\u001b[1;33m\u001b[0m\u001b[1;33m\u001b[0m\u001b[0m\n\u001b[1;32m---> 15\u001b[1;33m         \u001b[0mguess\u001b[0m\u001b[1;33m=\u001b[0m \u001b[0mint\u001b[0m\u001b[1;33m(\u001b[0m\u001b[0minput\u001b[0m\u001b[1;33m(\u001b[0m\u001b[1;34m\"Enter your guess (between\"\u001b[0m\u001b[1;33m+\u001b[0m \u001b[0mstr\u001b[0m\u001b[1;33m(\u001b[0m\u001b[0mstart\u001b[0m\u001b[1;33m)\u001b[0m\u001b[1;33m+\u001b[0m\u001b[1;34m\" and \"\u001b[0m \u001b[1;33m+\u001b[0m\u001b[0mstr\u001b[0m\u001b[1;33m(\u001b[0m\u001b[0mend\u001b[0m\u001b[1;33m)\u001b[0m\u001b[1;33m+\u001b[0m \u001b[1;34m\"): \"\u001b[0m\u001b[1;33m)\u001b[0m\u001b[1;33m)\u001b[0m\u001b[1;33m\u001b[0m\u001b[1;33m\u001b[0m\u001b[0m\n\u001b[0m\u001b[0;32m     16\u001b[0m \u001b[1;33m\u001b[0m\u001b[0m\n\u001b[0;32m     17\u001b[0m \u001b[0mprint\u001b[0m\u001b[1;33m(\u001b[0m\u001b[1;34m\"Bingo!\"\u001b[0m\u001b[1;33m)\u001b[0m\u001b[1;33m\u001b[0m\u001b[1;33m\u001b[0m\u001b[0m\n",
      "\u001b[1;32m~\\anaconda3\\lib\\site-packages\\ipykernel\\kernelbase.py\u001b[0m in \u001b[0;36mraw_input\u001b[1;34m(self, prompt)\u001b[0m\n\u001b[0;32m    858\u001b[0m                 \u001b[1;34m\"raw_input was called, but this frontend does not support input requests.\"\u001b[0m\u001b[1;33m\u001b[0m\u001b[1;33m\u001b[0m\u001b[0m\n\u001b[0;32m    859\u001b[0m             )\n\u001b[1;32m--> 860\u001b[1;33m         return self._input_request(str(prompt),\n\u001b[0m\u001b[0;32m    861\u001b[0m             \u001b[0mself\u001b[0m\u001b[1;33m.\u001b[0m\u001b[0m_parent_ident\u001b[0m\u001b[1;33m,\u001b[0m\u001b[1;33m\u001b[0m\u001b[1;33m\u001b[0m\u001b[0m\n\u001b[0;32m    862\u001b[0m             \u001b[0mself\u001b[0m\u001b[1;33m.\u001b[0m\u001b[0m_parent_header\u001b[0m\u001b[1;33m,\u001b[0m\u001b[1;33m\u001b[0m\u001b[1;33m\u001b[0m\u001b[0m\n",
      "\u001b[1;32m~\\anaconda3\\lib\\site-packages\\ipykernel\\kernelbase.py\u001b[0m in \u001b[0;36m_input_request\u001b[1;34m(self, prompt, ident, parent, password)\u001b[0m\n\u001b[0;32m    902\u001b[0m             \u001b[1;32mexcept\u001b[0m \u001b[0mKeyboardInterrupt\u001b[0m\u001b[1;33m:\u001b[0m\u001b[1;33m\u001b[0m\u001b[1;33m\u001b[0m\u001b[0m\n\u001b[0;32m    903\u001b[0m                 \u001b[1;31m# re-raise KeyboardInterrupt, to truncate traceback\u001b[0m\u001b[1;33m\u001b[0m\u001b[1;33m\u001b[0m\u001b[1;33m\u001b[0m\u001b[0m\n\u001b[1;32m--> 904\u001b[1;33m                 \u001b[1;32mraise\u001b[0m \u001b[0mKeyboardInterrupt\u001b[0m\u001b[1;33m(\u001b[0m\u001b[1;34m\"Interrupted by user\"\u001b[0m\u001b[1;33m)\u001b[0m \u001b[1;32mfrom\u001b[0m \u001b[1;32mNone\u001b[0m\u001b[1;33m\u001b[0m\u001b[1;33m\u001b[0m\u001b[0m\n\u001b[0m\u001b[0;32m    905\u001b[0m             \u001b[1;32mexcept\u001b[0m \u001b[0mException\u001b[0m \u001b[1;32mas\u001b[0m \u001b[0me\u001b[0m\u001b[1;33m:\u001b[0m\u001b[1;33m\u001b[0m\u001b[1;33m\u001b[0m\u001b[0m\n\u001b[0;32m    906\u001b[0m                 \u001b[0mself\u001b[0m\u001b[1;33m.\u001b[0m\u001b[0mlog\u001b[0m\u001b[1;33m.\u001b[0m\u001b[0mwarning\u001b[0m\u001b[1;33m(\u001b[0m\u001b[1;34m\"Invalid Message:\"\u001b[0m\u001b[1;33m,\u001b[0m \u001b[0mexc_info\u001b[0m\u001b[1;33m=\u001b[0m\u001b[1;32mTrue\u001b[0m\u001b[1;33m)\u001b[0m\u001b[1;33m\u001b[0m\u001b[1;33m\u001b[0m\u001b[0m\n",
      "\u001b[1;31mKeyboardInterrupt\u001b[0m: Interrupted by user"
     ]
    }
   ],
   "source": [
    "import random\n",
    "start = int(input('Enter the start of the range:'))\n",
    "end = int(input('Enter the end of the range:'))\n",
    "random_value= random.randrange(start,end)\n",
    "print(random_value)\n",
    "guess= int(input(\"Enter your guess (between\"+ str(start)+\" and \" +str(end)+ \"): \"))\n",
    "while not (guess == random_value):\n",
    "    if guess > random_value:\n",
    "        print(\"Your guess is too high!\")\n",
    "        end = guess\n",
    "        guess= int(input(\"Enter your guess (between\"+ str(start)+\" and \" +str(end)+ \"): \"))\n",
    "    if guess < random_value:\n",
    "        start = guess\n",
    "        print(\"Your guess is too low!\")\n",
    "        guess= int(input(\"Enter your guess (between\"+ str(start)+\" and \" +str(end)+ \"): \"))\n",
    "        \n",
    "print(\"Bingo!\")\n",
    "        "
   ]
  },
  {
   "cell_type": "markdown",
   "metadata": {},
   "source": [
    "## That is all for today!!!\n",
    "- Hope you have fun today! If you don't understand it is ok, coding really takes some time to get yourself familiar with it.\n",
    "- If you are more confident in coding you can try to work on some projects using python. may help in your 1d project also\n",
    "- Here are some of my recommendations:\n",
    "    - web scraping \n",
    "    - data analysis using pandas\n",
    "    - backend development using django or flask\n",
    "    - telegram bot https://medium.com/ieee-manipal/build-a-telegram-bot-using-python-23b13549856f"
   ]
  },
  {
   "cell_type": "code",
   "execution_count": null,
   "metadata": {},
   "outputs": [],
   "source": []
  }
 ],
 "metadata": {
  "kernelspec": {
   "name": "Python 3.8.6 64-bit",
   "display_name": "Python 3.8.6 64-bit",
   "metadata": {
    "interpreter": {
     "hash": "f8b09be0b5a89bf6705763c09b431a79fe4da15c979dd99e0ce50de1e05c8a7d"
    }
   }
  },
  "language_info": {
   "codemirror_mode": {
    "name": "ipython",
    "version": 3
   },
   "file_extension": ".py",
   "mimetype": "text/x-python",
   "name": "python",
   "nbconvert_exporter": "python",
   "pygments_lexer": "ipython3",
   "version": "3.8.6-final"
  }
 },
 "nbformat": 4,
 "nbformat_minor": 4
}