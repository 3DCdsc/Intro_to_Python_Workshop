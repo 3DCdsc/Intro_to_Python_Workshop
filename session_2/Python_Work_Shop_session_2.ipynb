{
  "nbformat": 4,
  "nbformat_minor": 0,
  "metadata": {
    "colab": {
      "name": "Python_Work_Shop_session_2ipynb.ipynb",
      "provenance": [],
      "collapsed_sections": []
    },
    "kernelspec": {
      "name": "python3",
      "display_name": "Python 3"
    }
  },
  "cells": [
    {
      "cell_type": "markdown",
      "metadata": {
        "id": "WGwl1jcGnyoT"
      },
      "source": [
        "# Welcome to lesson 2 of this python workshop\n",
        "\n",
        "## What will we be doing today\n",
        "- Do more practices to get you familar with coding\n",
        "- Introduce new concepts like while loop and dictionary\n",
        "- Some interesting things that you can do with python\n"
      ]
    },
    {
      "cell_type": "markdown",
      "metadata": {
        "id": "X4GRbXWDnyrW"
      },
      "source": [
        "# Warm up and recap\n",
        "\n",
        "- Try to figure out what the following outputs before you run the code to check"
      ]
    },
    {
      "cell_type": "markdown",
      "metadata": {
        "id": "Yn3P7s-dnylo"
      },
      "source": [
        "# Q1 : Final Score Calculator\n",
        "\n",
        "Let's write some Python code that helps you calculate your final <b>cumulative score</b> for a course titled \"Introduction to University Life\".\n",
        "\n",
        "This course has several assessments. For each assessment, there is a <b>total score</b>, which is the maximum score you could achieve for that assessment. Each assessment counts towards a certain <b>percentage of the final cumulative score</b>. The final cumulative score is on a scale of <b>[0 - 100]</b>.\n",
        "\n",
        "The assessments of this course are shown below:\n",
        "\n",
        "<ul>\n",
        "<li>Assignments:\n",
        "    <ul>\n",
        "        <li>Assignment 1: (total score 10 marks), 10%</li>\n",
        "        <li>Assignment 2: (total score 10 marks), 10%</li>\n",
        "        <li>Assignment 3: (total score 10 marks), 10%</li>\n",
        "    </ul>\n",
        "</li>\n",
        "<li>Tests:\n",
        "    <ul>\n",
        "        <li>Test 1: (total score 30 marks), 15%</li>\n",
        "        <li>Test 2: (total score 40 marks), 20%</li>\n",
        "        <li>Exam: (total score 140 marks), 35%</li>\n",
        "    </ul>\n",
        "</li>\n",
        "</ul>\n",
        "\n",
        "For example, Test 1 is 30 marks in total and counts towards 15% of your final score. If your raw score for Test 1 is 20 marks, it is two thirds of the total score for Test 1 and it will contribute 10 marks (which is two thirds of 15) to your final cumulative score.\n",
        "\n",
        "Your code should produce the following sample output:<br /><img align=\"left\" src='https://drive.google.com/uc?export=view&id=0B08uY8vosNfodDdrN1hFVi1rdFE' style=\"width: 350px; height: 130px;\">"
      ]
    },
    {
      "cell_type": "code",
      "metadata": {
        "id": "ki9tGEhtn3Dq"
      },
      "source": [
        "#Q1\n",
        "A1 = float(input(\"What's your score for Assignment 1?\"))\n",
        "A2 = float(input(\"What's your score for Assigment 2?\"))\n",
        "A3 = float(input(\"What's your score for Assignment 3?\"))\n",
        "T1 = float(input(\"What's your score for Test 1?\"))\n",
        "T2 = float(input(\"What's your score for Test 2?\"))\n",
        "EX = float(input(\"What's your score for the exam?\"))\n",
        "# #########################\n",
        "# Write your code below:\n",
        "# #########################\n"
      ],
      "execution_count": null,
      "outputs": []
    },
    {
      "cell_type": "markdown",
      "metadata": {
        "id": "5FKE7ksQoGmD"
      },
      "source": [
        "### Q2: Currency\n",
        "\n",
        "\n",
        "If you visit the United States, you'll need to get familiar with their currency and the various <b>coins</b> and <b>notes</b> in circulation. Look at this link to find out more about their various coins and notes: \n",
        "http://www.immihelp.com/newcomer/usa-currency-coins.html\n",
        "\n",
        "Here's a list of common coins:\n",
        "<ul>\n",
        "<li>Penny - 1 cent</li>\n",
        "<li>Nickle - 5 cents</li>\n",
        "<li>Dime - 10 cents</li>\n",
        "<li>Quarter - 25 cents</li>\n",
        "</ul>\n",
        "\n",
        "And the commonly used notes are : \\$1, \\$5, \\$10 and \\$20 notes.\n",
        "\n",
        "Let's write some Python code that prompts the user for an amount to pay (in US$) and that helps him/her to know <b>how many coins or notes</b> he/she has to provide in each denomination, to provide the <b>exact change</b>. <br />\n",
        "Some starting code is already given to you (which takes care of the conversion pricision from float to int - you can ignore ).\n",
        "\n",
        "Your code should produce the following sample output:<br /><img align=\"left\" src='https://drive.google.com/uc?export=view&id=0B08uY8vosNfoSHQ3NjZvd0YtQWc' style=\"width: 290px; height: 180px;\">"
      ]
    },
    {
      "cell_type": "code",
      "metadata": {
        "id": "w-tBlm0kn3Nj"
      },
      "source": [
        "#Q2 #########\n",
        "\n",
        "amount = float(input(\"Enter payment amount (US$) :\"))\n",
        "\n",
        "# ################################\n",
        "# Write your code below:\n",
        "# ################################\n"
      ],
      "execution_count": null,
      "outputs": []
    },
    {
      "cell_type": "markdown",
      "metadata": {
        "id": "B3v5o9jHoTkA"
      },
      "source": [
        "# For loops and if else statements\n",
        "<a id='for'></a>\n",
        "# for Loops\n",
        "\n",
        "A <code>for</code> loop acts as an iterator in Python; it goes through items that are in a *sequence* or any other iterable item. Objects that we've learned about that we can iterate over include strings, lists, tuples, and even built-in iterables for dictionaries, such as keys or values.\n",
        "\n",
        "We've already seen the <code>for</code> statement a little bit in past lectures but now let's formalize our understanding.\n",
        "\n",
        "Here's the general format for a <code>for</code> loop in Python:\n",
        "\n",
        "    for item in object:\n",
        "        statements to do stuff\n",
        "        \n",
        "<a id='if-else'></a>\n",
        "# if, elif, else Statements\n",
        "\n",
        "<code>if</code> Statements in Python allows us to tell the computer to perform alternative actions based on a certain set of results.\n",
        "\n",
        "Syntax:\n",
        "\n",
        "    if case1:\n",
        "        perform action1\n",
        "    elif case2:     #if case 1 not true but case 2 is true, perform action two\n",
        "        perform action2\n",
        "    else:           \n",
        "        perform action3"
      ]
    },
    {
      "cell_type": "markdown",
      "metadata": {
        "id": "AGwAlOrjogxL"
      },
      "source": [
        "### Q3: Ciphertext\n",
        "\n",
        "<b>Ciphertext</b> is a result of encryption performed on plaintext using a algorithm, inorder for you to encode and decode a ciphertext you need a key.\n",
        "\n",
        "How the encryption work: you have a string from a-z and for all the letters in the key, you take out these letters from the string and place it at the back of the string to give you a different series of 26 characters. Then you map whatever that is in the text from the first string to the second string\n",
        "    \n",
        "<b>Part 1 [ \\*\\* ]</b>: Implement a function called `cipher_text` that takes in the following parameters:\n",
        "\n",
        "<ul>\n",
        "<li>`text`: the text to be encrypted</li>\n",
        "<li>`key`: the key used to encrypt the text</li>\n",
        "</ul>\n",
        "\n",
        "and returns the encrypted text\n",
        "\n",
        "For example, The text is <b>i love sutd</b>, the key is <b>apple</b> then the second string will be <b>bcdfghijkmnoqrstuvwxyzaple</b> Then you compare the first string, the second string and the text. <b>i</b> is at position 8 of the first string and hence it should be replace by the character at position 8 of the second string which is <b>k</b> so on and in the end you will get a encrypted text <b>k oszg wyxf</b> \n",
        "\n",
        "You may find the function string.index(ch) useful, it reutrns you the position of ch in the string, this works with a list also"
      ]
    },
    {
      "cell_type": "code",
      "metadata": {
        "id": "BG5E6VjDoioj"
      },
      "source": [
        "def cipher_text(text,key) #can break down into smaller functions \n",
        "    first_string = 'abcdefghijklmnopqrstuvwxyz'\n",
        "    ###You Code\n",
        "\n",
        "    return encrypted_text\n",
        "\n",
        "cipher_text('i love sutd','apple')"
      ],
      "execution_count": null,
      "outputs": []
    },
    {
      "cell_type": "markdown",
      "metadata": {
        "id": "133-m8SOpIWX"
      },
      "source": [
        "<b>Part 2 [ \\*\\* ]</b>: Those of you who are interested or faster than the rest can try to implement a function called `decipher_text` to convert the encrypted message into normal language.\n"
      ]
    },
    {
      "cell_type": "code",
      "metadata": {
        "id": "X_zreRL5pJKP"
      },
      "source": [
        ""
      ],
      "execution_count": null,
      "outputs": []
    },
    {
      "cell_type": "markdown",
      "metadata": {
        "id": "YoUs9EUVpOdA"
      },
      "source": [
        "# **Dictionary**\n",
        "\n",
        "Dictionary is a structure in python just like list.\n",
        "Both are mutable, dynamic(no fix size) and can be nestd\n",
        "\n",
        "For dictionary there are only 2 things to note\n",
        "- key\n",
        "- value\n",
        "\n",
        "The data that is stored in dictionary is always a key-value pair.\n",
        "\n",
        "You can access the value of a pair via the key.\n",
        "\n",
        "Dictionary is very uesful for database creation and packaging of data and transmit it. ie: transmitting user details from the server to the website frontend.\n",
        "\n"
      ]
    },
    {
      "cell_type": "markdown",
      "metadata": {
        "id": "fMd67c74pTTy"
      },
      "source": [
        "## Some basic syntax"
      ]
    },
    {
      "cell_type": "code",
      "metadata": {
        "id": "FprY7_YPpT7a"
      },
      "source": [
        "#declaring\n",
        "my_dict = {}\n"
      ],
      "execution_count": null,
      "outputs": []
    },
    {
      "cell_type": "code",
      "metadata": {
        "id": "hTpjV4MUpT-S"
      },
      "source": [
        "#adding key-value pair to the dictionary\n",
        "my_dict['key1'] = 'value1'\n",
        "print(my_dict['key1'])"
      ],
      "execution_count": null,
      "outputs": []
    },
    {
      "cell_type": "code",
      "metadata": {
        "id": "4OqHt4HNpUAX"
      },
      "source": [
        "#a dictionary can hold differnt kind of data\n",
        "my_dict['another_dict'] = {'key_one':'value_one','key_two':'value_two'}\n",
        "print(my_dict['another_dict'])"
      ],
      "execution_count": null,
      "outputs": []
    },
    {
      "cell_type": "code",
      "metadata": {
        "id": "sYMktrNRpUCm"
      },
      "source": [
        "my_dict['a_list'] = ['a','b','c','d']\n",
        "print(my_dict['a_list'])"
      ],
      "execution_count": null,
      "outputs": []
    },
    {
      "cell_type": "code",
      "metadata": {
        "id": "mT0jE3YHpUEs"
      },
      "source": [
        "print(my_dict)"
      ],
      "execution_count": null,
      "outputs": []
    },
    {
      "cell_type": "code",
      "metadata": {
        "id": "j0DCl6kepUHD"
      },
      "source": [
        "#accessing all the key and values in a dictionary\n",
        "for key in my_dict.keys():\n",
        "  print(key)"
      ],
      "execution_count": null,
      "outputs": []
    },
    {
      "cell_type": "code",
      "metadata": {
        "id": "AmFlY-ZapUJn"
      },
      "source": [
        "for value in my_dict.values():\n",
        "  print(value)"
      ],
      "execution_count": null,
      "outputs": []
    },
    {
      "cell_type": "code",
      "metadata": {
        "id": "xRkC5eFqpUL8"
      },
      "source": [
        "for key,value in my_dict.items():\n",
        "  print(key,value)"
      ],
      "execution_count": null,
      "outputs": []
    },
    {
      "cell_type": "code",
      "metadata": {
        "id": "Wjz8pCu1pUOt"
      },
      "source": [
        "#Sorting a dictionary\n",
        "test_dict = {1:'a',53:'a',15:'e',3:'q',63:'q',4:'k',24:'s',14:'r',3:'c'}"
      ],
      "execution_count": null,
      "outputs": []
    },
    {
      "cell_type": "code",
      "metadata": {
        "id": "YHEKB59ipmot"
      },
      "source": [
        "#By their keys\n",
        "print(sorted(test_dict.items()))"
      ],
      "execution_count": null,
      "outputs": []
    },
    {
      "cell_type": "markdown",
      "metadata": {
        "id": "fhtbWExAppoA"
      },
      "source": [
        "# How to sort a dictionary by their values\n",
        "\n",
        "Now that we know how to sort the dictionary by their keys, how do we do so for values?\n",
        "\n",
        "code your own logic that outputs a sorted version of the dictionary "
      ]
    },
    {
      "cell_type": "code",
      "metadata": {
        "id": "5GZ4TlAlpmvB"
      },
      "source": [
        "#By their values\n",
        "test_dict = {1:'a',53:'a',15:'e',3:'q',63:'q',4:'k',24:'s',14:'r',3:'c'}"
      ],
      "execution_count": null,
      "outputs": []
    },
    {
      "cell_type": "markdown",
      "metadata": {
        "id": "XWhZ_MXTpwWB"
      },
      "source": [
        "# While loop\n",
        "- abit similar to for loop, but it keeps running until the condition is false\n",
        "- the main difference between for loop and while loop is \n",
        "    - for loop is used in situations where you know the number of iterations to go through\n",
        "    - while loop is used in situations where you do not know the number of iterations to go through but you know what is the condition that it should stop\n",
        "    "
      ]
    },
    {
      "cell_type": "code",
      "metadata": {
        "id": "nRfZyYW3pmxk"
      },
      "source": [
        "# Only when the condition behind the while statement is True, then only  it will enter the loop\n",
        "# So do remember to update the condition for you to exit the while loop.\n",
        "# Unless you want it to run forever\n",
        "\n",
        "index = 1\n",
        "while index < 5:\n",
        "  print('This statement is printed {} times'.format(index))\n",
        "  index += 1\n",
        "print(index)\n",
        "\n"
      ],
      "execution_count": null,
      "outputs": []
    },
    {
      "cell_type": "code",
      "metadata": {
        "id": "K8Ss_bfOpm05"
      },
      "source": [
        "# one of the important application of while loop is to validate input from user\n",
        "# prompt the user to input their gender and if its not M or F you will notify them that its wrong input and ask them to input again\n",
        "\n",
        "# Put your code below\n",
        "gender= input(\"What's your gender? Please enter M or F: \")\n",
        "while not(gender == 'M' or gender == 'F'):\n",
        "    print(\"Wrong input\")\n",
        "    gender= input(\"What's your gender? Please enter M or F: \")\n",
        "\n",
        "if gender == 'M':\n",
        "    print(\"Thanks! Your gender is male.\")\n",
        "    \n",
        "if gender == 'F':\n",
        "    print(\"Thanks! Your gender is female\")\n",
        "    \n"
      ],
      "execution_count": null,
      "outputs": []
    },
    {
      "cell_type": "markdown",
      "metadata": {
        "id": "vup9Rgedp4ym"
      },
      "source": [
        "### Q4: Number Guessing Game\n",
        "\n",
        "<b>Part 1</b>\n",
        "Write a piece of code that does the following:\n",
        "\n",
        "- The program first generates a random number between 1 and 100 (both inclusive). You can try to make the range to be a user input\n",
        "  <br />You can use the `randrange()` or `randint()` function from the `random` module to generate the number.\n",
        "- The program then keeps prompting the user to guess the random number generated until the user's guess is correct. When the guess is wrong, the program gives a hint about whether the guess is too low or too high.\n",
        "\n",
        "A sample run of the program can be found below. Note that in this sample run 95 is the random number generated in the beginning.\n",
        "\n",
        "    Enter your guess (between 1 and 100) :34\n",
        "    Your guess is too low!\n",
        "    \n",
        "    Enter your guess (between 1 and 100) :58\n",
        "    Your guess is too low!\n",
        "    \n",
        "    Enter your guess (between 1 and 100) :73\n",
        "    Your guess is too low!\n",
        "    \n",
        "    Enter your guess (between 1 and 100) :86\n",
        "    Your guess is too low!\n",
        "    \n",
        "    Enter your guess (between 1 and 100) :99\n",
        "    Your guess is too high!\n",
        "    \n",
        "    Enter your guess (between 1 and 100) :90\n",
        "    Your guess is too low!\n",
        "    \n",
        "    Enter your guess (between 1 and 100) :95\n",
        "    \n",
        "    Bingo!\n",
        "\n",
        "Another sample run is below. This time 47 is the random number generated in the beginning.\n",
        "\n",
        "    Enter your guess (between 1 and 100):50\n",
        "    Your guess is too high!\n",
        "    \n",
        "    Enter your guess (between 1 and 100):25\n",
        "    Your guess is too low!\n",
        "    \n",
        "    Enter your guess (between 1 and 100):37\n",
        "    Your guess is too low!\n",
        "    \n",
        "    Enter your guess (between 1 and 100):43\n",
        "    Your guess is too low!\n",
        "    \n",
        "    Enter your guess (between 1 and 100):47\n",
        "    \n",
        "    Bingo!\n",
        "    \n",
        "__Note:__ You cannot reproduce the same output as shown above because your program will likely generate a different random number."
      ]
    },
    {
      "cell_type": "code",
      "metadata": {
        "id": "9lC4R0pWp50A"
      },
      "source": [
        "import random\n",
        "random_value= random.randrange(1,100)\n",
        "guess= int(input(\"Enter your guess (between 1 and 100): \"))\n",
        "\n",
        "# Put your code below\n",
        "#while ...."
      ],
      "execution_count": null,
      "outputs": []
    },
    {
      "cell_type": "markdown",
      "metadata": {
        "id": "XYD42_44qLgd"
      },
      "source": [
        "### Q4: Number Guessing Game\n",
        "\n",
        "<b>Part 2</b>\n",
        "Write a piece of code that does the following:\n",
        "\n",
        "- The program first generates a random number between 1 and 100 (both inclusive). You can try to make the range to be a user input\n",
        "  <br />You can use the `randrange()` or `randint()` function from the `random` module to generate the number.\n",
        "- The program then keeps prompting the user to guess the random number generated until the user's guess is correct. When the guess is wrong, the program gives a hint about whether the guess is too low or too high and keep track of the current range of valid guesses.\n",
        "\n",
        "A sample run of the program can be found below. Note that in this sample run 95 is the random number generated in the beginning.\n",
        "\n",
        "    Enter your guess (between 1 and 100) :34\n",
        "    Your guess is too low!\n",
        "    \n",
        "    Enter your guess (between 34 and 100) :58\n",
        "    Your guess is too low!\n",
        "    \n",
        "    Enter your guess (between 58 and 100) :73\n",
        "    Your guess is too low!\n",
        "    \n",
        "    Enter your guess (between 73 and 100) :86\n",
        "    Your guess is too low!\n",
        "    \n",
        "    Enter your guess (between 86 and 100) :99\n",
        "    Your guess is too high!\n",
        "    \n",
        "    Enter your guess (between 86 and 99) :90\n",
        "    Your guess is too low!\n",
        "    \n",
        "    Enter your guess (between 90 and 99) :95\n",
        "    \n",
        "    Bingo!\n",
        "\n"
      ]
    },
    {
      "cell_type": "code",
      "metadata": {
        "id": "Uc7_rO9pqNW0"
      },
      "source": [
        "import random\n"
      ],
      "execution_count": null,
      "outputs": []
    },
    {
      "cell_type": "markdown",
      "metadata": {
        "id": "LNc603diqXHj"
      },
      "source": [
        "## That is all for today!!!\n",
        "- Hope you have fun today! If you don't understand it is ok, coding really takes some time to get yourself familiar with it.\n",
        "- If you are more confident in coding you can try to work on some projects using python. may help in your 1d project also\n",
        "- Here are some of my recommendations:\n",
        "    - web scraping \n",
        "    - data analysis using pandas\n",
        "    - backend development using django or flask\n",
        "    - telegram bot https://medium.com/ieee-manipal/build-a-telegram-bot-using-python-23b13549856f"
      ]
    },
    {
      "cell_type": "code",
      "metadata": {
        "id": "kau4eTo2qdjS"
      },
      "source": [
        ""
      ],
      "execution_count": null,
      "outputs": []
    }
  ]
}
